{
 "cells": [
  {
   "cell_type": "code",
   "execution_count": 77,
   "metadata": {},
   "outputs": [],
   "source": [
    "from iotcloudtemp.connect import revive_connection, get_thing_id, checkboxes_table, get_temp_by_hour\n",
    "from datetime import timedelta\n",
    "import pandas as pd\n",
    "\n",
    "#  Pre-Load data\n",
    "client_things, client_properties = revive_connection()\n",
    "thing_id, properties_unflat = get_thing_id(client_things, client_properties)\n",
    "properties = [item for sublist in properties_unflat for item in sublist]\n",
    "df_propids, dict_propid_list = checkboxes_table(properties)\n",
    "\n",
    "def get_data(client_properties, df_propids):\n",
    "    df = pd.DataFrame({})\n",
    "    for tid, tname ,pid, pname in zip(df_propids.thing_id.values, df_propids.thing_name.values, df_propids.id.values, df_propids.purpose.values):\n",
    "        data_dict = client_properties.properties_v2_timeseries(tid, pid).data\n",
    "        times = [el.time for el in data_dict]\n",
    "        values = [el.value for el in data_dict]\n",
    "        df['datetime'] = times\n",
    "        df[pid] = values\n",
    "        df['date'] = pd.to_datetime(df['datetime']).dt.strftime('%d.%m.%Y')\n",
    "        df['time'] = pd.to_datetime(df['datetime']).dt.strftime('%H:%M')\n",
    "        df['hour'] = pd.to_datetime(df['datetime']).dt.hour + pd.to_datetime(df['datetime']).dt.minute/60\n",
    "        df['hour_rounded'] = round(pd.to_datetime(df['datetime']).dt.hour + pd.to_datetime(df['datetime']).dt.minute/60)\n",
    "\n",
    "    # Make the averages\n",
    "    df_avg = df.drop(['datetime', 'date', 'time', 'hour'], axis=1)\\\n",
    "        .groupby('hour_rounded', as_index=False).agg(['mean', 'std'])\n",
    "    df_avg['hour_rounded'] = df_avg.index\n",
    "    df_mean = df.drop(['datetime', 'date', 'time', 'hour'], axis=1)\\\n",
    "        .groupby('hour_rounded', as_index=False).agg('mean').add_suffix('_mean')\n",
    "    df_std = df.drop(['datetime', 'date', 'time', 'hour'], axis=1)\\\n",
    "            .groupby('hour_rounded', as_index=False).agg('std').add_suffix('_std')\n",
    "    df_union = pd.concat([df_mean, df_std], axis=1)\n",
    "    return df, df_union\n",
    "\n",
    "df, df_avg = get_data(client_properties, df_propids)"
   ]
  },
  {
   "cell_type": "code",
   "execution_count": 100,
   "metadata": {},
   "outputs": [
    {
     "data": {
      "text/html": [
       "<div>\n",
       "<style scoped>\n",
       "    .dataframe tbody tr th:only-of-type {\n",
       "        vertical-align: middle;\n",
       "    }\n",
       "\n",
       "    .dataframe tbody tr th {\n",
       "        vertical-align: top;\n",
       "    }\n",
       "\n",
       "    .dataframe thead th {\n",
       "        text-align: right;\n",
       "    }\n",
       "</style>\n",
       "<table border=\"1\" class=\"dataframe\">\n",
       "  <thead>\n",
       "    <tr style=\"text-align: right;\">\n",
       "      <th></th>\n",
       "      <th>eab17e2c-02bb-44c1-ba88-ce38ce214670</th>\n",
       "      <th>time</th>\n",
       "    </tr>\n",
       "  </thead>\n",
       "  <tbody>\n",
       "    <tr>\n",
       "      <th>999</th>\n",
       "      <td>9.090909</td>\n",
       "      <td>16:41</td>\n",
       "    </tr>\n",
       "  </tbody>\n",
       "</table>\n",
       "</div>"
      ],
      "text/plain": [
       "     eab17e2c-02bb-44c1-ba88-ce38ce214670   time\n",
       "999                              9.090909  16:41"
      ]
     },
     "execution_count": 100,
     "metadata": {},
     "output_type": "execute_result"
    }
   ],
   "source": [
    "df[['eab17e2c-02bb-44c1-ba88-ce38ce214670', 'time']].tail(1)"
   ]
  },
  {
   "cell_type": "markdown",
   "metadata": {},
   "source": []
  }
 ],
 "metadata": {
  "kernelspec": {
   "display_name": "venv",
   "language": "python",
   "name": "python3"
  },
  "language_info": {
   "codemirror_mode": {
    "name": "ipython",
    "version": 3
   },
   "file_extension": ".py",
   "mimetype": "text/x-python",
   "name": "python",
   "nbconvert_exporter": "python",
   "pygments_lexer": "ipython3",
   "version": "3.9.6"
  },
  "orig_nbformat": 4,
  "vscode": {
   "interpreter": {
    "hash": "a1d60cca232d9b82fd59945db40bc3c706416399ec6f2b73f8a44c2f7d51dec2"
   }
  }
 },
 "nbformat": 4,
 "nbformat_minor": 2
}
