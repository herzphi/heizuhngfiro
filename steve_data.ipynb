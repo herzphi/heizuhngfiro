{
 "cells": [
  {
   "cell_type": "code",
   "execution_count": 33,
   "metadata": {},
   "outputs": [],
   "source": [
    "import iot_api_client as iot\n",
    "import datetime\n",
    "from dateutil.tz import tzutc\n",
    "import time as tm\n",
    "import pandas as pd\n",
    "import matplotlib.pyplot as plt\n",
    "from oauthlib.oauth2 import BackendApplicationClient\n",
    "from requests_oauthlib import OAuth2Session"
   ]
  },
  {
   "cell_type": "code",
   "execution_count": 34,
   "metadata": {},
   "outputs": [],
   "source": [
    "def get_token():\n",
    "    YOUR_CLIENT_ID = 'LEE2MI2lNlbbZhNs2s1XBPFSXkzZAUhA'\n",
    "    YOUR_CLIENT_SECRET = 'PIJWDrwgLiSYIopGGR1IjVjsgXrhNQ6R55Hy0nFf0ZZTQhAlXDw4vEppX462eKIZ'\n",
    "\n",
    "    oauth_client = BackendApplicationClient(client_id=YOUR_CLIENT_ID)\n",
    "    token_url = \"https://api2.arduino.cc/iot/v1/clients/token\"\n",
    "\n",
    "    oauth = OAuth2Session(client=oauth_client)\n",
    "    token = oauth.fetch_token(\n",
    "        token_url=token_url,\n",
    "        client_id=YOUR_CLIENT_ID,\n",
    "        client_secret=YOUR_CLIENT_SECRET,\n",
    "        include_client_id=True,\n",
    "        audience=\"https://api2.arduino.cc/iot\",\n",
    "    )\n",
    "    return token\n",
    "token = get_token()"
   ]
  },
  {
   "cell_type": "code",
   "execution_count": 35,
   "metadata": {},
   "outputs": [],
   "source": [
    "# Now we setup the iot-api Python client, first of all create a\n",
    "# configuration object. The access token goes in the config object.\n",
    "client_config = iot.Configuration(host=\"https://api2.arduino.cc/iot\")\n",
    "# client_config.debug = True\n",
    "client_config.access_token = token.get(\"access_token\")\n",
    "\n",
    "# Create the iot-api Python client with the given configuration\n",
    "client = iot.ApiClient(client_config)\n",
    "\n",
    "# Each API model has its own wrapper, here we want to interact with\n",
    "# devices, so we create a DevicesV2Api object\n",
    "client_devices = iot.DevicesV2Api(client)\n",
    "client_things = iot.ThingsV2Api(client)\n",
    "client_properties = iot.PropertiesV2Api(client)\n",
    "client_series = iot.SeriesV2Api(client)\n",
    "\n",
    "things = client_things.things_v2_list()\n",
    "for i in range(len(things)):\n",
    "    if things[i].name=='Noel code':\n",
    "        thing_id = things[i].id\n",
    "\n",
    "#   Set IDs\n",
    "properties = client_properties.properties_v2_list(thing_id)\n",
    "temp0_id = properties[0].id\n",
    "\n",
    "#client_devices.devices_v2_timeseries_with_http_info(thing_id, temp0_id, start='2022-11-08T14:00:00Z', limit=100)\n",
    "to_date_dict = client_properties.properties_v2_timeseries(thing_id, temp0_id)"
   ]
  },
  {
   "cell_type": "code",
   "execution_count": 36,
   "metadata": {},
   "outputs": [],
   "source": [
    "client_config = iot.Configuration(host=\"https://api2.arduino.cc/iot\")\n",
    "\n",
    "client_config.access_token = token.get(\"access_token\")\n",
    "\n",
    "client = iot.ApiClient(client_config)\n",
    "\n",
    "client_properties = iot.PropertiesV2Api(client)\n",
    "\n",
    "properties = client_properties.properties_v2_list(thing_id)\n",
    "\n",
    "name_props, id_props = ([] for i in range(2))\n",
    "\n",
    "for i in range(len(properties)):\n",
    "    name_props.append(properties[i].name)\n",
    "    id_props.append(properties[i].id)"
   ]
  },
  {
   "cell_type": "code",
   "execution_count": 37,
   "metadata": {},
   "outputs": [
    {
     "data": {
      "text/plain": [
       "[{'label': 'WW-Zirkulation Rücklauf',\n",
       "  'value': '9779b4e9-9326-4d5b-b0b1-e439871f2cf7'},\n",
       " {'label': 'WW-Zirkulation Vorlauf',\n",
       "  'value': '017a526a-f846-42f4-a8eb-34166469b045'},\n",
       " {'label': 'Vorlauf Heizungsgerät',\n",
       "  'value': '589870c4-5656-47e9-b6cb-dc4ed3f8673d'},\n",
       " {'label': 'Heizungsgerät Rücklauf',\n",
       "  'value': 'c97fb696-7711-481d-aa73-e530a7fefefb'},\n",
       " {'label': 'Vorlauf Wasserspeicher',\n",
       "  'value': 'eab17e2c-02bb-44c1-ba88-ce38ce214670'},\n",
       " {'label': 'Rücklauf Wasserspeicher',\n",
       "  'value': '3c14f058-22d9-4169-b779-4980c3aa9684'},\n",
       " {'label': 'Küche Eltern', 'value': '6ec5ba16-baa5-4e2d-bce2-0cdf743c64eb'},\n",
       " {'label': 'Vorlauf Fussbodenheizung gesamt',\n",
       "  'value': '4a514750-8b89-474a-a583-12f2a2b1e818'},\n",
       " {'label': 'Fussbodenheizung Vorlauf Bad',\n",
       "  'value': '2638892a-671f-4851-94b4-c2ed09850272'}]"
      ]
     },
     "execution_count": 37,
     "metadata": {},
     "output_type": "execute_result"
    }
   ],
   "source": [
    "def get_thing_id():\n",
    "    token = get_token()\n",
    "    # Now we setup the iot-api Python client, first of all create a\n",
    "    # configuration object. The access token goes in the config object.\n",
    "    client_config = iot.Configuration(host=\"https://api2.arduino.cc/iot\")\n",
    "    # client_config.debug = True\n",
    "    client_config.access_token = token.get(\"access_token\")\n",
    "\n",
    "    # Create the iot-api Python client with the given configuration\n",
    "    client = iot.ApiClient(client_config)\n",
    "    client_things = iot.ThingsV2Api(client)\n",
    "    things = client_things.things_v2_list()\n",
    "    for i in range(len(things)):\n",
    "        if things[i].name=='Noel code':\n",
    "            thing_id = things[i].id\n",
    "    properties = client_properties.properties_v2_list(thing_id)\n",
    "    return thing_id, properties\n",
    "\n",
    "def checkboxes_table(properties):\n",
    "    df_propids = pd.DataFrame({\n",
    "        'name':[d.name for d in properties],\n",
    "        'id':[d.id for d in properties]\n",
    "    })\n",
    "    property_name = ['t_30','t_38','t_32','t_36','t_37','t_35','t_33','t_24','t_20','t_31','t_34','t_22','t_23','t_21']\n",
    "    property_purpose = ['WW-Zirkulation Rücklauf','WW-Zirkulation Vorlauf','Vorlauf Heizungsgerät',\\\n",
    "        'Heizungsgerät Rücklauf','Vorlauf Wasserspeicher','Rücklauf Wasserspeicher','Küche Eltern',\\\n",
    "            'Vorlauf Fussbodenheizung gesamt','Fussbodenheizung Vorlauf Bad','Heizung Vorlauf im Ölkeller',\\\n",
    "                'Außentemperatur','Fussbodenheizung Vorlauf Wohnraum','Vorlauf Mixer Heizungsseitig','Rücklauf Mixer Heizungsseitig']\n",
    "    for name, purpose in zip(property_name, property_purpose):\n",
    "        row = df_propids[df_propids['name']==name].index\n",
    "        df_propids.loc[row, 'purpose'] = purpose\n",
    "    # Make the dictionary\n",
    "    df_propids = df_propids.drop('name', axis=1)\\\n",
    "            .rename(columns={'id':'value', 'purpose':'options'})\\\n",
    "                    .to_dict(orient='records')\n",
    "    return df_propids, dict_propid_list\n",
    "\n",
    "thing_id, properties = get_thing_id()\n",
    "df_propids, dict_propid_list = checkboxes_table(properties)\n",
    "\n",
    "dict_propid_list"
   ]
  },
  {
   "cell_type": "code",
   "execution_count": 39,
   "metadata": {},
   "outputs": [
    {
     "ename": "ApiException",
     "evalue": "(401)\nReason: Unauthorized\nHTTP response headers: HTTPHeaderDict({'Cache-Control': 'no-cache, no-store, must-revalidate', 'Content-Type': 'text/plain; charset=utf-8', 'Date': 'Sun, 25 Dec 2022 11:21:23 GMT', 'Expires': '0', 'Pragma': 'no-cache', 'Vary': 'Accept-Encoding, Origin', 'X-Content-Type-Options': 'nosniff', 'Content-Length': '23', 'Connection': 'keep-alive'})\nHTTP response body: request not authorized\n\n",
     "output_type": "error",
     "traceback": [
      "\u001b[0;31m---------------------------------------------------------------------------\u001b[0m",
      "\u001b[0;31mApiException\u001b[0m                              Traceback (most recent call last)",
      "Cell \u001b[0;32mIn [39], line 6\u001b[0m\n\u001b[1;32m      4\u001b[0m means, stds, hours, purposes \u001b[39m=\u001b[39m ([] \u001b[39mfor\u001b[39;00m i \u001b[39min\u001b[39;00m \u001b[39mrange\u001b[39m(\u001b[39m4\u001b[39m))\n\u001b[1;32m      5\u001b[0m \u001b[39mfor\u001b[39;00m pid \u001b[39min\u001b[39;00m property_id:\n\u001b[0;32m----> 6\u001b[0m     to_date_dict \u001b[39m=\u001b[39m client_properties\u001b[39m.\u001b[39;49mproperties_v2_timeseries(thing_id, pid)\n\u001b[1;32m      8\u001b[0m     data_list \u001b[39m=\u001b[39m to_date_dict\u001b[39m.\u001b[39mdata\n\u001b[1;32m      9\u001b[0m     times, values \u001b[39m=\u001b[39m ([] \u001b[39mfor\u001b[39;00m i \u001b[39min\u001b[39;00m \u001b[39mrange\u001b[39m(\u001b[39m2\u001b[39m))\n",
      "File \u001b[0;32m~/Library/Python/3.9/lib/python/site-packages/iot_api_client/api/properties_v2_api.py:705\u001b[0m, in \u001b[0;36mPropertiesV2Api.properties_v2_timeseries\u001b[0;34m(self, id, pid, **kwargs)\u001b[0m\n\u001b[1;32m    678\u001b[0m \u001b[39m\"\"\"timeseries properties_v2  # noqa: E501\u001b[39;00m\n\u001b[1;32m    679\u001b[0m \n\u001b[1;32m    680\u001b[0m \u001b[39mGet numerical property's historic data binned on a specified time interval (note: the total number of data points should NOT be greater than 1000 otherwise the result will be truncated)  # noqa: E501\u001b[39;00m\n\u001b[0;32m   (...)\u001b[0m\n\u001b[1;32m    702\u001b[0m \u001b[39m         returns the request thread.\u001b[39;00m\n\u001b[1;32m    703\u001b[0m \u001b[39m\"\"\"\u001b[39;00m\n\u001b[1;32m    704\u001b[0m kwargs[\u001b[39m'\u001b[39m\u001b[39m_return_http_data_only\u001b[39m\u001b[39m'\u001b[39m] \u001b[39m=\u001b[39m \u001b[39mTrue\u001b[39;00m\n\u001b[0;32m--> 705\u001b[0m \u001b[39mreturn\u001b[39;00m \u001b[39mself\u001b[39;49m\u001b[39m.\u001b[39;49mproperties_v2_timeseries_with_http_info(\u001b[39mid\u001b[39;49m, pid, \u001b[39m*\u001b[39;49m\u001b[39m*\u001b[39;49mkwargs)\n",
      "File \u001b[0;32m~/Library/Python/3.9/lib/python/site-packages/iot_api_client/api/properties_v2_api.py:806\u001b[0m, in \u001b[0;36mPropertiesV2Api.properties_v2_timeseries_with_http_info\u001b[0;34m(self, id, pid, **kwargs)\u001b[0m\n\u001b[1;32m    803\u001b[0m \u001b[39m# Authentication setting\u001b[39;00m\n\u001b[1;32m    804\u001b[0m auth_settings \u001b[39m=\u001b[39m [\u001b[39m'\u001b[39m\u001b[39moauth2\u001b[39m\u001b[39m'\u001b[39m]  \u001b[39m# noqa: E501\u001b[39;00m\n\u001b[0;32m--> 806\u001b[0m \u001b[39mreturn\u001b[39;00m \u001b[39mself\u001b[39;49m\u001b[39m.\u001b[39;49mapi_client\u001b[39m.\u001b[39;49mcall_api(\n\u001b[1;32m    807\u001b[0m     \u001b[39m'\u001b[39;49m\u001b[39m/v2/things/\u001b[39;49m\u001b[39m{id}\u001b[39;49;00m\u001b[39m/properties/\u001b[39;49m\u001b[39m{pid}\u001b[39;49;00m\u001b[39m/timeseries\u001b[39;49m\u001b[39m'\u001b[39;49m, \u001b[39m'\u001b[39;49m\u001b[39mGET\u001b[39;49m\u001b[39m'\u001b[39;49m,\n\u001b[1;32m    808\u001b[0m     path_params,\n\u001b[1;32m    809\u001b[0m     query_params,\n\u001b[1;32m    810\u001b[0m     header_params,\n\u001b[1;32m    811\u001b[0m     body\u001b[39m=\u001b[39;49mbody_params,\n\u001b[1;32m    812\u001b[0m     post_params\u001b[39m=\u001b[39;49mform_params,\n\u001b[1;32m    813\u001b[0m     files\u001b[39m=\u001b[39;49mlocal_var_files,\n\u001b[1;32m    814\u001b[0m     response_type\u001b[39m=\u001b[39;49m\u001b[39m'\u001b[39;49m\u001b[39mArduinoTimeseriesmedia\u001b[39;49m\u001b[39m'\u001b[39;49m,  \u001b[39m# noqa: E501\u001b[39;49;00m\n\u001b[1;32m    815\u001b[0m     auth_settings\u001b[39m=\u001b[39;49mauth_settings,\n\u001b[1;32m    816\u001b[0m     async_req\u001b[39m=\u001b[39;49mlocal_var_params\u001b[39m.\u001b[39;49mget(\u001b[39m'\u001b[39;49m\u001b[39masync_req\u001b[39;49m\u001b[39m'\u001b[39;49m),\n\u001b[1;32m    817\u001b[0m     _return_http_data_only\u001b[39m=\u001b[39;49mlocal_var_params\u001b[39m.\u001b[39;49mget(\u001b[39m'\u001b[39;49m\u001b[39m_return_http_data_only\u001b[39;49m\u001b[39m'\u001b[39;49m),  \u001b[39m# noqa: E501\u001b[39;49;00m\n\u001b[1;32m    818\u001b[0m     _preload_content\u001b[39m=\u001b[39;49mlocal_var_params\u001b[39m.\u001b[39;49mget(\u001b[39m'\u001b[39;49m\u001b[39m_preload_content\u001b[39;49m\u001b[39m'\u001b[39;49m, \u001b[39mTrue\u001b[39;49;00m),\n\u001b[1;32m    819\u001b[0m     _request_timeout\u001b[39m=\u001b[39;49mlocal_var_params\u001b[39m.\u001b[39;49mget(\u001b[39m'\u001b[39;49m\u001b[39m_request_timeout\u001b[39;49m\u001b[39m'\u001b[39;49m),\n\u001b[1;32m    820\u001b[0m     collection_formats\u001b[39m=\u001b[39;49mcollection_formats)\n",
      "File \u001b[0;32m~/Library/Python/3.9/lib/python/site-packages/iot_api_client/api_client.py:364\u001b[0m, in \u001b[0;36mApiClient.call_api\u001b[0;34m(self, resource_path, method, path_params, query_params, header_params, body, post_params, files, response_type, auth_settings, async_req, _return_http_data_only, collection_formats, _preload_content, _request_timeout, _host)\u001b[0m\n\u001b[1;32m    327\u001b[0m \u001b[39m\"\"\"Makes the HTTP request (synchronous) and returns deserialized data.\u001b[39;00m\n\u001b[1;32m    328\u001b[0m \n\u001b[1;32m    329\u001b[0m \u001b[39mTo make an async_req request, set the async_req parameter.\u001b[39;00m\n\u001b[0;32m   (...)\u001b[0m\n\u001b[1;32m    361\u001b[0m \u001b[39m    then the method will return the response directly.\u001b[39;00m\n\u001b[1;32m    362\u001b[0m \u001b[39m\"\"\"\u001b[39;00m\n\u001b[1;32m    363\u001b[0m \u001b[39mif\u001b[39;00m \u001b[39mnot\u001b[39;00m async_req:\n\u001b[0;32m--> 364\u001b[0m     \u001b[39mreturn\u001b[39;00m \u001b[39mself\u001b[39;49m\u001b[39m.\u001b[39;49m__call_api(resource_path, method,\n\u001b[1;32m    365\u001b[0m                            path_params, query_params, header_params,\n\u001b[1;32m    366\u001b[0m                            body, post_params, files,\n\u001b[1;32m    367\u001b[0m                            response_type, auth_settings,\n\u001b[1;32m    368\u001b[0m                            _return_http_data_only, collection_formats,\n\u001b[1;32m    369\u001b[0m                            _preload_content, _request_timeout, _host)\n\u001b[1;32m    371\u001b[0m \u001b[39mreturn\u001b[39;00m \u001b[39mself\u001b[39m\u001b[39m.\u001b[39mpool\u001b[39m.\u001b[39mapply_async(\u001b[39mself\u001b[39m\u001b[39m.\u001b[39m__call_api, (resource_path,\n\u001b[1;32m    372\u001b[0m                                                method, path_params,\n\u001b[1;32m    373\u001b[0m                                                query_params,\n\u001b[0;32m   (...)\u001b[0m\n\u001b[1;32m    381\u001b[0m                                                _request_timeout,\n\u001b[1;32m    382\u001b[0m                                                _host))\n",
      "File \u001b[0;32m~/Library/Python/3.9/lib/python/site-packages/iot_api_client/api_client.py:188\u001b[0m, in \u001b[0;36mApiClient.__call_api\u001b[0;34m(self, resource_path, method, path_params, query_params, header_params, body, post_params, files, response_type, auth_settings, _return_http_data_only, collection_formats, _preload_content, _request_timeout, _host)\u001b[0m\n\u001b[1;32m    186\u001b[0m \u001b[39mexcept\u001b[39;00m ApiException \u001b[39mas\u001b[39;00m e:\n\u001b[1;32m    187\u001b[0m     e\u001b[39m.\u001b[39mbody \u001b[39m=\u001b[39m e\u001b[39m.\u001b[39mbody\u001b[39m.\u001b[39mdecode(\u001b[39m'\u001b[39m\u001b[39mutf-8\u001b[39m\u001b[39m'\u001b[39m) \u001b[39mif\u001b[39;00m six\u001b[39m.\u001b[39mPY3 \u001b[39melse\u001b[39;00m e\u001b[39m.\u001b[39mbody\n\u001b[0;32m--> 188\u001b[0m     \u001b[39mraise\u001b[39;00m e\n\u001b[1;32m    190\u001b[0m content_type \u001b[39m=\u001b[39m response_data\u001b[39m.\u001b[39mgetheader(\u001b[39m'\u001b[39m\u001b[39mcontent-type\u001b[39m\u001b[39m'\u001b[39m)\n\u001b[1;32m    192\u001b[0m \u001b[39mself\u001b[39m\u001b[39m.\u001b[39mlast_response \u001b[39m=\u001b[39m response_data\n",
      "File \u001b[0;32m~/Library/Python/3.9/lib/python/site-packages/iot_api_client/api_client.py:181\u001b[0m, in \u001b[0;36mApiClient.__call_api\u001b[0;34m(self, resource_path, method, path_params, query_params, header_params, body, post_params, files, response_type, auth_settings, _return_http_data_only, collection_formats, _preload_content, _request_timeout, _host)\u001b[0m\n\u001b[1;32m    177\u001b[0m     url \u001b[39m=\u001b[39m _host \u001b[39m+\u001b[39m resource_path\n\u001b[1;32m    179\u001b[0m \u001b[39mtry\u001b[39;00m:\n\u001b[1;32m    180\u001b[0m     \u001b[39m# perform request and return response\u001b[39;00m\n\u001b[0;32m--> 181\u001b[0m     response_data \u001b[39m=\u001b[39m \u001b[39mself\u001b[39;49m\u001b[39m.\u001b[39;49mrequest(\n\u001b[1;32m    182\u001b[0m         method, url, query_params\u001b[39m=\u001b[39;49mquery_params, headers\u001b[39m=\u001b[39;49mheader_params,\n\u001b[1;32m    183\u001b[0m         post_params\u001b[39m=\u001b[39;49mpost_params, body\u001b[39m=\u001b[39;49mbody,\n\u001b[1;32m    184\u001b[0m         _preload_content\u001b[39m=\u001b[39;49m_preload_content,\n\u001b[1;32m    185\u001b[0m         _request_timeout\u001b[39m=\u001b[39;49m_request_timeout)\n\u001b[1;32m    186\u001b[0m \u001b[39mexcept\u001b[39;00m ApiException \u001b[39mas\u001b[39;00m e:\n\u001b[1;32m    187\u001b[0m     e\u001b[39m.\u001b[39mbody \u001b[39m=\u001b[39m e\u001b[39m.\u001b[39mbody\u001b[39m.\u001b[39mdecode(\u001b[39m'\u001b[39m\u001b[39mutf-8\u001b[39m\u001b[39m'\u001b[39m) \u001b[39mif\u001b[39;00m six\u001b[39m.\u001b[39mPY3 \u001b[39melse\u001b[39;00m e\u001b[39m.\u001b[39mbody\n",
      "File \u001b[0;32m~/Library/Python/3.9/lib/python/site-packages/iot_api_client/api_client.py:389\u001b[0m, in \u001b[0;36mApiClient.request\u001b[0;34m(self, method, url, query_params, headers, post_params, body, _preload_content, _request_timeout)\u001b[0m\n\u001b[1;32m    387\u001b[0m \u001b[39m\"\"\"Makes the HTTP request using RESTClient.\"\"\"\u001b[39;00m\n\u001b[1;32m    388\u001b[0m \u001b[39mif\u001b[39;00m method \u001b[39m==\u001b[39m \u001b[39m\"\u001b[39m\u001b[39mGET\u001b[39m\u001b[39m\"\u001b[39m:\n\u001b[0;32m--> 389\u001b[0m     \u001b[39mreturn\u001b[39;00m \u001b[39mself\u001b[39;49m\u001b[39m.\u001b[39;49mrest_client\u001b[39m.\u001b[39;49mGET(url,\n\u001b[1;32m    390\u001b[0m                                 query_params\u001b[39m=\u001b[39;49mquery_params,\n\u001b[1;32m    391\u001b[0m                                 _preload_content\u001b[39m=\u001b[39;49m_preload_content,\n\u001b[1;32m    392\u001b[0m                                 _request_timeout\u001b[39m=\u001b[39;49m_request_timeout,\n\u001b[1;32m    393\u001b[0m                                 headers\u001b[39m=\u001b[39;49mheaders)\n\u001b[1;32m    394\u001b[0m \u001b[39melif\u001b[39;00m method \u001b[39m==\u001b[39m \u001b[39m\"\u001b[39m\u001b[39mHEAD\u001b[39m\u001b[39m\"\u001b[39m:\n\u001b[1;32m    395\u001b[0m     \u001b[39mreturn\u001b[39;00m \u001b[39mself\u001b[39m\u001b[39m.\u001b[39mrest_client\u001b[39m.\u001b[39mHEAD(url,\n\u001b[1;32m    396\u001b[0m                                  query_params\u001b[39m=\u001b[39mquery_params,\n\u001b[1;32m    397\u001b[0m                                  _preload_content\u001b[39m=\u001b[39m_preload_content,\n\u001b[1;32m    398\u001b[0m                                  _request_timeout\u001b[39m=\u001b[39m_request_timeout,\n\u001b[1;32m    399\u001b[0m                                  headers\u001b[39m=\u001b[39mheaders)\n",
      "File \u001b[0;32m~/Library/Python/3.9/lib/python/site-packages/iot_api_client/rest.py:230\u001b[0m, in \u001b[0;36mRESTClientObject.GET\u001b[0;34m(self, url, headers, query_params, _preload_content, _request_timeout)\u001b[0m\n\u001b[1;32m    228\u001b[0m \u001b[39mdef\u001b[39;00m \u001b[39mGET\u001b[39m(\u001b[39mself\u001b[39m, url, headers\u001b[39m=\u001b[39m\u001b[39mNone\u001b[39;00m, query_params\u001b[39m=\u001b[39m\u001b[39mNone\u001b[39;00m, _preload_content\u001b[39m=\u001b[39m\u001b[39mTrue\u001b[39;00m,\n\u001b[1;32m    229\u001b[0m         _request_timeout\u001b[39m=\u001b[39m\u001b[39mNone\u001b[39;00m):\n\u001b[0;32m--> 230\u001b[0m     \u001b[39mreturn\u001b[39;00m \u001b[39mself\u001b[39;49m\u001b[39m.\u001b[39;49mrequest(\u001b[39m\"\u001b[39;49m\u001b[39mGET\u001b[39;49m\u001b[39m\"\u001b[39;49m, url,\n\u001b[1;32m    231\u001b[0m                         headers\u001b[39m=\u001b[39;49mheaders,\n\u001b[1;32m    232\u001b[0m                         _preload_content\u001b[39m=\u001b[39;49m_preload_content,\n\u001b[1;32m    233\u001b[0m                         _request_timeout\u001b[39m=\u001b[39;49m_request_timeout,\n\u001b[1;32m    234\u001b[0m                         query_params\u001b[39m=\u001b[39;49mquery_params)\n",
      "File \u001b[0;32m~/Library/Python/3.9/lib/python/site-packages/iot_api_client/rest.py:224\u001b[0m, in \u001b[0;36mRESTClientObject.request\u001b[0;34m(self, method, url, query_params, headers, body, post_params, _preload_content, _request_timeout)\u001b[0m\n\u001b[1;32m    221\u001b[0m     logger\u001b[39m.\u001b[39mdebug(\u001b[39m\"\u001b[39m\u001b[39mresponse body: \u001b[39m\u001b[39m%s\u001b[39;00m\u001b[39m\"\u001b[39m, r\u001b[39m.\u001b[39mdata)\n\u001b[1;32m    223\u001b[0m \u001b[39mif\u001b[39;00m \u001b[39mnot\u001b[39;00m \u001b[39m200\u001b[39m \u001b[39m<\u001b[39m\u001b[39m=\u001b[39m r\u001b[39m.\u001b[39mstatus \u001b[39m<\u001b[39m\u001b[39m=\u001b[39m \u001b[39m299\u001b[39m:\n\u001b[0;32m--> 224\u001b[0m     \u001b[39mraise\u001b[39;00m ApiException(http_resp\u001b[39m=\u001b[39mr)\n\u001b[1;32m    226\u001b[0m \u001b[39mreturn\u001b[39;00m r\n",
      "\u001b[0;31mApiException\u001b[0m: (401)\nReason: Unauthorized\nHTTP response headers: HTTPHeaderDict({'Cache-Control': 'no-cache, no-store, must-revalidate', 'Content-Type': 'text/plain; charset=utf-8', 'Date': 'Sun, 25 Dec 2022 11:21:23 GMT', 'Expires': '0', 'Pragma': 'no-cache', 'Vary': 'Accept-Encoding, Origin', 'X-Content-Type-Options': 'nosniff', 'Content-Length': '23', 'Connection': 'keep-alive'})\nHTTP response body: request not authorized\n\n"
     ]
    }
   ],
   "source": [
    "from datetime import timedelta\n",
    "\n",
    "property_id = ['9779b4e9-9326-4d5b-b0b1-e439871f2cf7', '017a526a-f846-42f4-a8eb-34166469b045']\n",
    "means, stds, hours, purposes = ([] for i in range(4))\n",
    "for pid in property_id:\n",
    "    to_date_dict = client_properties.properties_v2_timeseries(thing_id, pid)\n",
    "\n",
    "    data_list = to_date_dict.data\n",
    "    times, values = ([] for i in range(2))\n",
    "\n",
    "    for el in data_list:\n",
    "        times.append(el.time+timedelta(hours=1))\n",
    "        values.append(el.value)\n",
    "\n",
    "    df_data = pd.DataFrame({\n",
    "        'datetime':times,\n",
    "        'value': values\n",
    "    })\n",
    "    df_data['date'] = pd.to_datetime(df_data['datetime']).dt.strftime('%d.%m.%Y')\n",
    "    df_data['time'] = pd.to_datetime(df_data['datetime']).dt.strftime('%H:%M')\n",
    "    df_data['hour'] = pd.to_datetime(df_data['datetime']).dt.hour + pd.to_datetime(df_data['datetime']).dt.minute/60\n",
    "    df_data['hour_rounded'] = round(pd.to_datetime(df_data['datetime']).dt.hour + pd.to_datetime(df_data['datetime']).dt.minute/60)\n",
    "    df_data['purpose'] = df_propids[df_propids.id==pid].purpose\n",
    "    purpose = df_propids[df_propids.id==pid].purpose.values\n",
    "    #  Compile means and stddevs\n",
    "    for i in range(25):\n",
    "        mean = df_data[df_data['hour_rounded']==i]['value'].mean()\n",
    "        std = df_data[df_data['hour_rounded']==i]['value'].std()\n",
    "        hours.append(i)\n",
    "        means.append(mean)\n",
    "        stds.append(std)\n",
    "        purposes.append(purpose[0])\n",
    "df_avg = pd.DataFrame({\n",
    "        'purpose': purposes,\n",
    "        'hour': hours,\n",
    "        'mean': means,\n",
    "        'std': stds,\n",
    "    })"
   ]
  },
  {
   "cell_type": "code",
   "execution_count": null,
   "metadata": {},
   "outputs": [
    {
     "name": "stdout",
     "output_type": "stream",
     "text": [
      "t_30 9779b4e9-9326-4d5b-b0b1-e439871f2cf7\n",
      "t_31 017a526a-f846-42f4-a8eb-34166469b045\n",
      "t_32 589870c4-5656-47e9-b6cb-dc4ed3f8673d\n",
      "t_33 c97fb696-7711-481d-aa73-e530a7fefefb\n",
      "t_34 eab17e2c-02bb-44c1-ba88-ce38ce214670\n",
      "t_35 3c14f058-22d9-4169-b779-4980c3aa9684\n",
      "t_36 6ec5ba16-baa5-4e2d-bce2-0cdf743c64eb\n",
      "t_37 4a514750-8b89-474a-a583-12f2a2b1e818\n",
      "t_38 2638892a-671f-4851-94b4-c2ed09850272\n"
     ]
    }
   ],
   "source": [
    "for prop in client_properties.properties_v2_list(thing_id):\n",
    "    print(prop.name, prop.id)"
   ]
  },
  {
   "cell_type": "code",
   "execution_count": null,
   "metadata": {},
   "outputs": [],
   "source": []
  }
 ],
 "metadata": {
  "kernelspec": {
   "display_name": "Python 3",
   "language": "python",
   "name": "python3"
  },
  "language_info": {
   "codemirror_mode": {
    "name": "ipython",
    "version": 3
   },
   "file_extension": ".py",
   "mimetype": "text/x-python",
   "name": "python",
   "nbconvert_exporter": "python",
   "pygments_lexer": "ipython3",
   "version": "3.9.6"
  },
  "orig_nbformat": 4,
  "vscode": {
   "interpreter": {
    "hash": "31f2aee4e71d21fbe5cf8b01ff0e069b9275f58929596ceb00d14d90e3e16cd6"
   }
  }
 },
 "nbformat": 4,
 "nbformat_minor": 2
}
